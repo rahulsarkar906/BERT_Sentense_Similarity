{
 "cells": [
  {
   "cell_type": "code",
   "execution_count": 1,
   "metadata": {},
   "outputs": [],
   "source": [
    "#str = \"A barcode consists of light and dark bars of different widths, with a code number printed below the bars.\""
   ]
  },
  {
   "cell_type": "code",
   "execution_count": 6,
   "metadata": {},
   "outputs": [],
   "source": [
    "import warnings\n",
    "warnings.filterwarnings('ignore')\n",
    "import numpy as np\n",
    "import io\n",
    "\n",
    "import mxnet as mx\n",
    "from mxnet import gluon\n",
    "import gluonnlp as nlp"
   ]
  },
  {
   "cell_type": "code",
   "execution_count": 3,
   "metadata": {},
   "outputs": [
    {
     "name": "stdout",
     "output_type": "stream",
     "text": [
      "Collecting mxnet\n",
      "\u001b[?25l  Downloading https://files.pythonhosted.org/packages/b7/d1/1be95068a606b32924d68c23f3be730fb3ba0e1f7b06babf72a31befb03f/mxnet-1.5.1.post0-cp37-cp37m-macosx_10_11_x86_64.whl (14.2MB)\n",
      "\u001b[K     |████████████████████████████████| 14.2MB 198kB/s eta 0:00:01\n",
      "\u001b[?25hCollecting graphviz<0.9.0,>=0.8.1 (from mxnet)\n",
      "  Downloading https://files.pythonhosted.org/packages/53/39/4ab213673844e0c004bed8a0781a0721a3f6bb23eb8854ee75c236428892/graphviz-0.8.4-py2.py3-none-any.whl\n",
      "Requirement already satisfied: requests<3,>=2.20.0 in /Users/rahul.b.sarkar/opt/anaconda3/lib/python3.7/site-packages (from mxnet) (2.22.0)\n",
      "Requirement already satisfied: numpy<2.0.0,>1.16.0 in /Users/rahul.b.sarkar/opt/anaconda3/lib/python3.7/site-packages (from mxnet) (1.17.2)\n",
      "Requirement already satisfied: certifi>=2017.4.17 in /Users/rahul.b.sarkar/opt/anaconda3/lib/python3.7/site-packages (from requests<3,>=2.20.0->mxnet) (2019.9.11)\n",
      "Requirement already satisfied: chardet<3.1.0,>=3.0.2 in /Users/rahul.b.sarkar/opt/anaconda3/lib/python3.7/site-packages (from requests<3,>=2.20.0->mxnet) (3.0.4)\n",
      "Requirement already satisfied: idna<2.9,>=2.5 in /Users/rahul.b.sarkar/opt/anaconda3/lib/python3.7/site-packages (from requests<3,>=2.20.0->mxnet) (2.8)\n",
      "Requirement already satisfied: urllib3!=1.25.0,!=1.25.1,<1.26,>=1.21.1 in /Users/rahul.b.sarkar/opt/anaconda3/lib/python3.7/site-packages (from requests<3,>=2.20.0->mxnet) (1.24.2)\n",
      "Installing collected packages: graphviz, mxnet\n",
      "Successfully installed graphviz-0.8.4 mxnet-1.5.1.post0\n",
      "Note: you may need to restart the kernel to use updated packages.\n"
     ]
    }
   ],
   "source": [
    "pip install mxnet"
   ]
  },
  {
   "cell_type": "code",
   "execution_count": 5,
   "metadata": {},
   "outputs": [
    {
     "name": "stdout",
     "output_type": "stream",
     "text": [
      "Collecting gluonnlp\n",
      "\u001b[?25l  Downloading https://files.pythonhosted.org/packages/83/29/c7dffbfc39f8dd8bb9314df7aaf92a67f6c7826ed35d546c8fa63d6e5925/gluonnlp-0.8.3.tar.gz (236kB)\n",
      "\u001b[K     |████████████████████████████████| 245kB 257kB/s eta 0:00:01\n",
      "\u001b[?25hRequirement already satisfied: numpy in /Users/rahul.b.sarkar/opt/anaconda3/lib/python3.7/site-packages (from gluonnlp) (1.17.2)\n",
      "Building wheels for collected packages: gluonnlp\n",
      "  Building wheel for gluonnlp (setup.py) ... \u001b[?25ldone\n",
      "\u001b[?25h  Created wheel for gluonnlp: filename=gluonnlp-0.8.3-cp37-none-any.whl size=293540 sha256=b6ed3f63c6ca6352d72632c323776fcaa123f6ed4ca80e7f363adf184c806d0e\n",
      "  Stored in directory: /Users/rahul.b.sarkar/Library/Caches/pip/wheels/50/6e/32/521aa84da7f9ee725d3c9be0b5e0d771df659bf25da5929f6c\n",
      "Successfully built gluonnlp\n",
      "Installing collected packages: gluonnlp\n",
      "Successfully installed gluonnlp-0.8.3\n",
      "Note: you may need to restart the kernel to use updated packages.\n"
     ]
    }
   ],
   "source": [
    "pip install gluonnlp"
   ]
  },
  {
   "cell_type": "code",
   "execution_count": 10,
   "metadata": {},
   "outputs": [
    {
     "name": "stdout",
     "output_type": "stream",
     "text": [
      "1\n"
     ]
    }
   ],
   "source": [
    "elmo_intro = \"A barcode is a series of light and dark bars of differing widths\"\n",
    "\n",
    "elmo_intro_file = 'elmo_intro.txt'\n",
    "with io.open(elmo_intro_file, 'w', encoding='utf8') as f:\n",
    "    f.write(elmo_intro)\n",
    "\n",
    "dataset = nlp.data.TextLineDataset(elmo_intro_file, 'utf8')\n",
    "print(len(dataset))\n",
    "#print(dataset[2]) # print an example sentence from the input data"
   ]
  },
  {
   "cell_type": "code",
   "execution_count": 12,
   "metadata": {},
   "outputs": [
    {
     "name": "stdout",
     "output_type": "stream",
     "text": [
      "Collecting sacremoses\n",
      "\u001b[?25l  Downloading https://files.pythonhosted.org/packages/a6/b4/7a41d630547a4afd58143597d5a49e07bfd4c42914d8335b2a5657efc14b/sacremoses-0.0.38.tar.gz (860kB)\n",
      "\u001b[K     |████████████████████████████████| 870kB 204kB/s eta 0:00:01\n",
      "\u001b[?25hCollecting regex (from sacremoses)\n",
      "\u001b[?25l  Downloading https://files.pythonhosted.org/packages/73/d9/b58289d885180b5d538aa6df07974b5fe6088547ac846c0f76f77259c304/regex-2020.1.8.tar.gz (681kB)\n",
      "\u001b[K     |████████████████████████████████| 686kB 191kB/s eta 0:00:01\n",
      "\u001b[?25hRequirement already satisfied, skipping upgrade: six in /Users/rahul.b.sarkar/opt/anaconda3/lib/python3.7/site-packages (from sacremoses) (1.12.0)\n",
      "Requirement already satisfied, skipping upgrade: click in /Users/rahul.b.sarkar/opt/anaconda3/lib/python3.7/site-packages (from sacremoses) (7.0)\n",
      "Requirement already satisfied, skipping upgrade: joblib in /Users/rahul.b.sarkar/opt/anaconda3/lib/python3.7/site-packages (from sacremoses) (0.13.2)\n",
      "Requirement already satisfied, skipping upgrade: tqdm in /Users/rahul.b.sarkar/opt/anaconda3/lib/python3.7/site-packages (from sacremoses) (4.36.1)\n",
      "Building wheels for collected packages: sacremoses, regex\n",
      "  Building wheel for sacremoses (setup.py) ... \u001b[?25ldone\n",
      "\u001b[?25h  Created wheel for sacremoses: filename=sacremoses-0.0.38-cp37-none-any.whl size=884628 sha256=d66eada6a5c4f389c6d29cc0a351c41390c1b4310afa751e2e43542e409658d9\n",
      "  Stored in directory: /Users/rahul.b.sarkar/Library/Caches/pip/wheels/6d/ec/1a/21b8912e35e02741306f35f66c785f3afe94de754a0eaf1422\n",
      "  Building wheel for regex (setup.py) ... \u001b[?25ldone\n",
      "\u001b[?25h  Created wheel for regex: filename=regex-2020.1.8-cp37-cp37m-macosx_10_9_x86_64.whl size=273666 sha256=e2009dfaac9445d9fa56ef0017f9e5982579a471b1b21f8d8b5430cd28e8f6fb\n",
      "  Stored in directory: /Users/rahul.b.sarkar/Library/Caches/pip/wheels/1c/78/87/21be0303007ee5d1483df56703c9c7e5a44873e8f0c51d65f8\n",
      "Successfully built sacremoses regex\n",
      "Installing collected packages: regex, sacremoses\n",
      "Successfully installed regex-2020.1.8 sacremoses-0.0.38\n",
      "Note: you may need to restart the kernel to use updated packages.\n"
     ]
    }
   ],
   "source": [
    "pip install -U sacremoses"
   ]
  },
  {
   "cell_type": "code",
   "execution_count": 15,
   "metadata": {},
   "outputs": [
    {
     "name": "stdout",
     "output_type": "stream",
     "text": [
      "['<bos>', '&#91;', '&apos;', '&lt;', 'bos', '&gt;', '&apos;', ',', '&apos;', '&amp;', '#', '91', ';', '&apos;', ',', '&apos;', '&amp;', 'apos', ';', '&apos;', ',', '&apos;', '&amp;', 'lt', ';', '&apos;', ',', '&apos;', 'bos', '&apos;', ',', '&apos;', '&amp;', 'gt', ';', '&apos;', ',', '&apos;', '&amp;', 'apos', ';', '&apos;', ',', '&apos;', ',', '&apos;', ',', '&apos;', '&amp;', 'apos', ';', '&apos;', ',', '&apos;', 'A', '&apos;', ',', '&apos;', '&amp;', 'apos', ';', '&apos;', ',', '&apos;', ',', '&apos;', ',', '&apos;', '&amp;', 'apos', ';', '&apos;', ',', '&apos;', 'barcode', '&apos;', ',', '&apos;', '&amp;', 'apos', ';', '&apos;', ',', '&apos;', ',', '&apos;', ',', '&apos;', '&amp;', 'apos', ';', '&apos;', ',', '&apos;', 'is', '&apos;', ',', '&apos;', '&amp;', 'apos', ';', '&apos;', ',', '&apos;', ',', '&apos;', ',', '&apos;', '&amp;', 'apos', ';', '&apos;', ',', '&apos;', 'a', '&apos;', ',', '&apos;', '&amp;', 'apos', ';', '&apos;', ',', '&apos;', ',', '&apos;', ',', '&apos;', '&amp;', 'apos', ';', '&apos;', ',', '&apos;', 'series', '&apos;', ',', '&apos;', '&amp;', 'apos', ';', '&apos;', ',', '&apos;', ',', '&apos;', ',', '&apos;', '&amp;', 'apos', ';', '&apos;', ',', '&apos;', 'of', '&apos;', ',', '&apos;', '&amp;', 'apos', ';', '&apos;', ',', '&apos;', ',', '&apos;', ',', '&apos;', '&amp;', 'apos', ';', '&apos;', ',', '&apos;', 'light', '&apos;', ',', '&apos;', '&amp;', 'apos', ';', '&apos;', ',', '&apos;', ',', '&apos;', ',', '&apos;', '&amp;', 'apos', ';', '&apos;', ',', '&apos;', 'and', '&apos;', ',', '&apos;', '&amp;', 'apos', ';', '&apos;', ',', '&apos;', ',', '&apos;', ',', '&apos;', '&amp;', 'apos', ';', '&apos;', ',', '&apos;', 'dark', '&apos;', ',', '&apos;', '&amp;', 'apos', ';', '&apos;', ',', '&apos;', ',', '&apos;', ',', '&apos;', '&amp;', 'apos', ';', '&apos;', ',', '&apos;', 'bars', '&apos;', ',', '&apos;', '&amp;', 'apos', ';', '&apos;', ',', '&apos;', ',', '&apos;', ',', '&apos;', '&amp;', 'apos', ';', '&apos;', ',', '&apos;', 'of', '&apos;', ',', '&apos;', '&amp;', 'apos', ';', '&apos;', ',', '&apos;', ',', '&apos;', ',', '&apos;', '&amp;', 'apos', ';', '&apos;', ',', '&apos;', 'differing', '&apos;', ',', '&apos;', '&amp;', 'apos', ';', '&apos;', ',', '&apos;', ',', '&apos;', ',', '&apos;', '&amp;', 'apos', ';', '&apos;', ',', '&apos;', 'widths', '&apos;', ',', '&apos;', '&amp;', 'apos', ';', '&apos;', ',', '&apos;', ',', '&apos;', ',', '&apos;', '&amp;', 'apos', ';', '&apos;', ',', '&apos;', '&amp;', 'lt', ';', '&apos;', ',', '&apos;', 'eos', '&apos;', ',', '&apos;', '&amp;', 'gt', ';', '&apos;', ',', '&apos;', '&amp;', 'apos', ';', '&apos;', ',', '&apos;', '&amp;', '#', '93', ';', '&apos;', ',', '&apos;', '&lt;', 'eos', '&gt;', '&apos;', '&#93;', '<eos>']\n"
     ]
    }
   ],
   "source": [
    "tokenizer = nlp.data.NLTKMosesTokenizer()\n",
    "dataset = dataset.transform(tokenizer)\n",
    "dataset = dataset.transform(lambda x: ['<bos>'] + x + ['<eos>'])\n",
    "print(dataset[0])"
   ]
  },
  {
   "cell_type": "code",
   "execution_count": 16,
   "metadata": {},
   "outputs": [],
   "source": [
    "vocab = nlp.vocab.ELMoCharVocab()\n",
    "dataset = dataset.transform(lambda x: (vocab[x], len(x)), lazy=False)"
   ]
  },
  {
   "cell_type": "code",
   "execution_count": null,
   "metadata": {},
   "outputs": [],
   "source": []
  }
 ],
 "metadata": {
  "kernelspec": {
   "display_name": "Python 3",
   "language": "python",
   "name": "python3"
  },
  "language_info": {
   "codemirror_mode": {
    "name": "ipython",
    "version": 3
   },
   "file_extension": ".py",
   "mimetype": "text/x-python",
   "name": "python",
   "nbconvert_exporter": "python",
   "pygments_lexer": "ipython3",
   "version": "3.7.4"
  }
 },
 "nbformat": 4,
 "nbformat_minor": 2
}
